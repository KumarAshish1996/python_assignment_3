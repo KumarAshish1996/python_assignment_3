{
 "cells": [
  {
   "cell_type": "markdown",
   "metadata": {},
   "source": [
    "# Task 1:"
   ]
  },
  {
   "cell_type": "markdown",
   "metadata": {},
   "source": [
    "### P1.1 Write a function to compute 5/0 and use try/except to catch the exceptions"
   ]
  },
  {
   "cell_type": "markdown",
   "metadata": {},
   "source": [
    "#### Method 1"
   ]
  },
  {
   "cell_type": "code",
   "execution_count": 8,
   "metadata": {},
   "outputs": [
    {
     "name": "stdout",
     "output_type": "stream",
     "text": [
      "We can not devide a number by 0\n"
     ]
    }
   ],
   "source": [
    "def func_try_except():\n",
    "    try:\n",
    "        print(5/0)\n",
    "    except ZeroDivisionError:\n",
    "        print(\"We can not devide a number by 0\")\n",
    "func_try_except()\n",
    "\n"
   ]
  },
  {
   "cell_type": "markdown",
   "metadata": {},
   "source": [
    "#### By acceping number from user"
   ]
  },
  {
   "cell_type": "code",
   "execution_count": 8,
   "metadata": {},
   "outputs": [
    {
     "name": "stdout",
     "output_type": "stream",
     "text": [
      "\n",
      "Please Enter a numeric value: 2\n",
      "Result: 2.5\n",
      "\n",
      "Please y/Y for continnue or press any other kay for quit: y\n",
      "\n",
      "Please Enter a numeric value: 0\n",
      "We can not devide a number by 0\n",
      "\n",
      "Please y/Y for continnue or press any other kay for quit: dsd\n"
     ]
    }
   ],
   "source": [
    "def func_try_except_user(number):\n",
    "    try:\n",
    "        result=5/number\n",
    "        print(\"Result: \"+str(result))\n",
    "    except ZeroDivisionError:\n",
    "        print(\"We can not devide a number by 0\")\n",
    "    except:\n",
    "        print(\"Please enter a numeric value\")\n",
    "        \n",
    "while True:\n",
    "    quite=\"\"\n",
    "    number= float(input(\"\\nPlease Enter a numeric value: \"))\n",
    "    func_try_except_user(number)\n",
    "    quit=input(\"\\nPlease y/Y for continnue or press any other kay for quit: \") \n",
    "    if quit.upper()==\"Y\":\n",
    "        continue\n",
    "    else:\n",
    "        break"
   ]
  },
  {
   "cell_type": "markdown",
   "metadata": {},
   "source": [
    "### P1.2 Implement a Python program to generate all sentences where subject is in [\"Americans\", \"Indians\"] and verb is in [\"Play\", \"watch\"] and the object is in [\"Baseball\",\"cricket\"]."
   ]
  },
  {
   "cell_type": "markdown",
   "metadata": {},
   "source": [
    "#### Nested loop"
   ]
  },
  {
   "cell_type": "code",
   "execution_count": 1,
   "metadata": {},
   "outputs": [
    {
     "name": "stdout",
     "output_type": "stream",
     "text": [
      "Americans  play Baseball\n",
      "Americans  play Cricket\n",
      "Americans  watch Baseball\n",
      "Americans  watch Cricket\n",
      "Indians play Baseball\n",
      "Indians play Cricket\n",
      "Indians watch Baseball\n",
      "Indians watch Cricket\n"
     ]
    }
   ],
   "source": [
    "subjects=[\"Americans \",\"Indians\"]\n",
    "verbs=[\"play\",\"watch\"]\n",
    "objects=[\"Baseball\",\"Cricket\"]\n",
    "\n",
    "for s in subjects:\n",
    "    for v in verbs:\n",
    "        for o in objects:\n",
    "            print(s+\" \"+v+\" \"+o)"
   ]
  },
  {
   "cell_type": "markdown",
   "metadata": {},
   "source": [
    "#### Using list comprehensions"
   ]
  },
  {
   "cell_type": "code",
   "execution_count": 2,
   "metadata": {},
   "outputs": [
    {
     "name": "stdout",
     "output_type": "stream",
     "text": [
      "Americans  play Baseball\n",
      "Americans  play Cricket\n",
      "Americans  watch Baseball\n",
      "Americans  watch Cricket\n",
      "Indians play Baseball\n",
      "Indians play Cricket\n",
      "Indians watch Baseball\n",
      "Indians watch Cricket\n"
     ]
    }
   ],
   "source": [
    "list1 = ([s+\" \"+v+\" \"+o for s in subjects for v in verbs for o in objects])\n",
    "str1 = \"\\n\"\n",
    "str1= str1.join(list1)\n",
    "print(str1)"
   ]
  },
  {
   "cell_type": "markdown",
   "metadata": {},
   "source": [
    "# Task 2"
   ]
  },
  {
   "cell_type": "markdown",
   "metadata": {},
   "source": [
    "### Write a function so that the columns of the output matrix are powers of the input vector.\n",
    "##### The order of the powers is determined by the increasing boolean argument. Specifically, when increasing is False, the i-th output column is the input vector raised element-wise to the power of N - i - 1."
   ]
  },
  {
   "cell_type": "code",
   "execution_count": 9,
   "metadata": {},
   "outputs": [],
   "source": [
    "def vander(increasing_1,N):\n",
    "    import numpy as np\n",
    "    a=np.array([2,3,7,9])\n",
    "    ismat=0\n",
    "    \n",
    "    if increasing_1==\"False\":\n",
    "        matrix=np.vander(a,N)\n",
    "        print(matrix)\n",
    "        ismat=1\n",
    "    elif increasing_1==\"True\":\n",
    "        matrix=np.vander(a,N,increasing=True)\n",
    "        print(matrix)\n",
    "        ismat=1\n",
    "    else:\n",
    "        print(\"Please enter a boolean number\")\n",
    "    return ismat"
   ]
  },
  {
   "cell_type": "markdown",
   "metadata": {},
   "source": [
    "#### Calling vandert function"
   ]
  },
  {
   "cell_type": "code",
   "execution_count": 11,
   "metadata": {},
   "outputs": [
    {
     "name": "stdout",
     "output_type": "stream",
     "text": [
      "Please Enter Boolean Value(True/False):True\n",
      "Please Enter an integer:4\n",
      "[[  1   2   4   8]\n",
      " [  1   3   9  27]\n",
      " [  1   7  49 343]\n",
      " [  1   9  81 729]]\n",
      "\n",
      "vander function executed successfully\n",
      "Please y/Y for continnue or press any other kay for quit: y\n",
      "Please Enter Boolean Value(True/False):False\n",
      "Please Enter an integer:4\n",
      "[[  8   4   2   1]\n",
      " [ 27   9   3   1]\n",
      " [343  49   7   1]\n",
      " [729  81   9   1]]\n",
      "\n",
      "vander function executed successfully\n",
      "Please y/Y for continnue or press any other kay for quit: fdsf\n"
     ]
    }
   ],
   "source": [
    "while True:\n",
    "    quite=\"\"\n",
    "    increasing_1=input(\"Please Enter Boolean Value(True/False):\")\n",
    "    N=int(input(\"Please Enter an integer:\"))\n",
    "    ismat=vander(increasing_1,N)\n",
    "    if ismat!=0:\n",
    "        print(\"\\nvander function executed successfully\")\n",
    "        quit=input(\"Please y/Y for continnue or press any other kay for quit: \")\n",
    "    else:\n",
    "        quit=input(\"Please y/Y for continnue or press any other kay for quit: \") \n",
    "    if quit.upper()==\"Y\":\n",
    "        continue\n",
    "    else:\n",
    "        break"
   ]
  },
  {
   "cell_type": "code",
   "execution_count": null,
   "metadata": {},
   "outputs": [],
   "source": []
  }
 ],
 "metadata": {
  "kernelspec": {
   "display_name": "Python 3",
   "language": "python",
   "name": "python3"
  },
  "language_info": {
   "codemirror_mode": {
    "name": "ipython",
    "version": 3
   },
   "file_extension": ".py",
   "mimetype": "text/x-python",
   "name": "python",
   "nbconvert_exporter": "python",
   "pygments_lexer": "ipython3",
   "version": "3.7.3"
  }
 },
 "nbformat": 4,
 "nbformat_minor": 2
}
